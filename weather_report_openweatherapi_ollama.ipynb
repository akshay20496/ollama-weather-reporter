{
 "cells": [
  {
   "cell_type": "code",
   "execution_count": 39,
   "id": "3f12d928-4f12-4529-8974-0f37b511eb2a",
   "metadata": {},
   "outputs": [],
   "source": [
    "import os\n",
    "import requests\n",
    "import json\n",
    "from datetime import date"
   ]
  },
  {
   "cell_type": "code",
   "execution_count": null,
   "id": "e3e8fce5-4846-4a80-b9cc-859b36c3ced9",
   "metadata": {},
   "outputs": [
    {
     "name": "stdout",
     "output_type": "stream",
     "text": [
      "Enter the name of the city:  Pune\n"
     ]
    }
   ],
   "source": [
    "openweather_api_key = \"give_your_openweatherapi_key_here\"\n",
    "city = input(\"Enter the name of the city: \")\n",
    "url = f\"https://api.openweathermap.org/data/2.5/weather?q={city}&appid={openweather_api_key}&units=metric\""
   ]
  },
  {
   "cell_type": "code",
   "execution_count": 19,
   "id": "bfca51fa-41e3-48ce-b566-fc4f55cc7243",
   "metadata": {},
   "outputs": [
    {
     "data": {
      "text/plain": [
       "<Response [200]>"
      ]
     },
     "execution_count": 19,
     "metadata": {},
     "output_type": "execute_result"
    }
   ],
   "source": [
    "resp = requests.get(url)\n",
    "resp"
   ]
  },
  {
   "cell_type": "code",
   "execution_count": 21,
   "id": "ece43a4f-701a-402e-a7b1-f8baab5a068e",
   "metadata": {},
   "outputs": [
    {
     "data": {
      "text/plain": [
       "{'coord': {'lon': 73.8553, 'lat': 18.5196},\n",
       " 'weather': [{'id': 804,\n",
       "   'main': 'Clouds',\n",
       "   'description': 'overcast clouds',\n",
       "   'icon': '04n'}],\n",
       " 'base': 'stations',\n",
       " 'main': {'temp': 23.8,\n",
       "  'feels_like': 24.77,\n",
       "  'temp_min': 23.8,\n",
       "  'temp_max': 23.8,\n",
       "  'pressure': 1005,\n",
       "  'humidity': 97,\n",
       "  'sea_level': 1005,\n",
       "  'grnd_level': 933},\n",
       " 'visibility': 2552,\n",
       " 'wind': {'speed': 3.95, 'deg': 246, 'gust': 12.18},\n",
       " 'clouds': {'all': 100},\n",
       " 'dt': 1755537717,\n",
       " 'sys': {'country': 'IN', 'sunrise': 1755478027, 'sunset': 1755523807},\n",
       " 'timezone': 19800,\n",
       " 'id': 1259229,\n",
       " 'name': 'Pune',\n",
       " 'cod': 200}"
      ]
     },
     "execution_count": 21,
     "metadata": {},
     "output_type": "execute_result"
    }
   ],
   "source": [
    "data = resp.json()\n",
    "data"
   ]
  },
  {
   "cell_type": "code",
   "execution_count": 31,
   "id": "937a614d-0921-409d-8d63-f2195921b187",
   "metadata": {},
   "outputs": [
    {
     "name": "stdout",
     "output_type": "stream",
     "text": [
      "{\"coord\": {\"lon\": 73.8553, \"lat\": 18.5196}, \"weather\": [{\"id\": 804, \"main\": \"Clouds\", \"description\": \"overcast clouds\", \"icon\": \"04n\"}], \"base\": \"stations\", \"main\": {\"temp\": 23.8, \"feels_like\": 24.77, \"temp_min\": 23.8, \"temp_max\": 23.8, \"pressure\": 1005, \"humidity\": 97, \"sea_level\": 1005, \"grnd_level\": 933}, \"visibility\": 2552, \"wind\": {\"speed\": 3.95, \"deg\": 246, \"gust\": 12.18}, \"clouds\": {\"all\": 100}, \"dt\": 1755537717, \"sys\": {\"country\": \"IN\", \"sunrise\": 1755478027, \"sunset\": 1755523807}, \"timezone\": 19800, \"id\": 1259229, \"name\": \"Pune\", \"cod\": 200}\n"
     ]
    }
   ],
   "source": [
    "print(json.dumps(data))"
   ]
  },
  {
   "cell_type": "code",
   "execution_count": 53,
   "id": "d323a675-0f8b-4e88-a1b1-89f0cb43b9f0",
   "metadata": {},
   "outputs": [],
   "source": [
    "def fetch_weather(city:str) -> dict:\n",
    "    url = f\"https://api.openweathermap.org/data/2.5/weather?q={city}&appid={openweather_api_key}&units=metric\"\n",
    "    resp = requests.get(url)\n",
    "    data = resp.json()\n",
    "    # data[\"location\"] = city\n",
    "    return data"
   ]
  },
  {
   "cell_type": "code",
   "execution_count": 55,
   "id": "b0237489-f41c-48d2-805a-cab486d35f49",
   "metadata": {},
   "outputs": [
    {
     "data": {
      "text/plain": [
       "{'coord': {'lon': 73.8553, 'lat': 18.5196},\n",
       " 'weather': [{'id': 804,\n",
       "   'main': 'Clouds',\n",
       "   'description': 'overcast clouds',\n",
       "   'icon': '04n'}],\n",
       " 'base': 'stations',\n",
       " 'main': {'temp': 22.65,\n",
       "  'feels_like': 23.48,\n",
       "  'temp_min': 22.65,\n",
       "  'temp_max': 22.65,\n",
       "  'pressure': 1005,\n",
       "  'humidity': 96,\n",
       "  'sea_level': 1005,\n",
       "  'grnd_level': 933},\n",
       " 'visibility': 2925,\n",
       " 'wind': {'speed': 2.67, 'deg': 253, 'gust': 9.76},\n",
       " 'clouds': {'all': 100},\n",
       " 'dt': 1755538864,\n",
       " 'sys': {'country': 'IN', 'sunrise': 1755478027, 'sunset': 1755523807},\n",
       " 'timezone': 19800,\n",
       " 'id': 1259229,\n",
       " 'name': 'Pune',\n",
       " 'cod': 200}"
      ]
     },
     "execution_count": 55,
     "metadata": {},
     "output_type": "execute_result"
    }
   ],
   "source": [
    "fetch_weather('Pune')"
   ]
  },
  {
   "cell_type": "code",
   "execution_count": 83,
   "id": "fe8fbf99-b2fa-4bd4-b22d-7e7ed11e3e6c",
   "metadata": {},
   "outputs": [
    {
     "data": {
      "text/plain": [
       "'2025-08-18'"
      ]
     },
     "execution_count": 83,
     "metadata": {},
     "output_type": "execute_result"
    }
   ],
   "source": [
    "today = date.today().isoformat()  # e.g. \"2025-08-18\"\n",
    "today"
   ]
  },
  {
   "cell_type": "code",
   "execution_count": 93,
   "id": "648d24b6-51f9-4f5f-97f6-c27751532e26",
   "metadata": {},
   "outputs": [],
   "source": [
    "weather_prompt_template = \"\"\"\n",
    "You are a weather reporter. Use the provided real-time weather data to create a human-friendly forecast.\n",
    "Respond ONLY in JSON with this schema:\n",
    "{{\n",
    "  \"location\": \"{city}\",\n",
    "  \"date\": \"{date}\",\n",
    "  \"summary\": \"<summary>\",\n",
    "  \"temperature\": {{\"low_c\": <float>, \"high_c\": <float>, \"feels_like_c\": <float>}},\n",
    "  \"condition\": \"<condition>\",\n",
    "  \"details\": \"<narrative>\",\n",
    "  \"advice\": \"<tip>\",\n",
    "  \"confidence\": \"high\"\n",
    "}}\n",
    "Rules:\n",
    "- Start directly with '{{' (no text before).\n",
    "- The \"location\" field MUST be exactly \"{city}\" unless a more precise location is found.\n",
    "- Do not omit any field.\n",
    "Tone: friendly\n",
    "Weather data: {weather_data}\n",
    "\"\"\""
   ]
  },
  {
   "cell_type": "code",
   "execution_count": 117,
   "id": "a52f6f82-0bae-4164-a571-cb0ce3ffa513",
   "metadata": {},
   "outputs": [
    {
     "name": "stdout",
     "output_type": "stream",
     "text": [
      "{\n",
      "  \"location\": \"Pune\",\n",
      "  \"date\": \"2025-08-18 23:43:14\",\n",
      "  \"summary\": \"Partly cloudy skies will prevail in Pune today with a high of 28°C and a low of 19°C.\",\n",
      "  \"temperature\": {\n",
      "    \"low_c\": 19,\n",
      "    \"high_c\": 28\n",
      "  },\n",
      "  \"condition\": \"Overcast clouds\",\n",
      "  \"details\": \"A gentle breeze from the northwest at approximately 8 km/h, with an average temperature of 22.65°C and a relative humidity of 96%.\",\n",
      "  \"advice\": \"Stay hydrated by drinking plenty of water throughout the day, especially in this warm weather.\",\n",
      "  \"confidence\": \"high\"\n",
      "}\n"
     ]
    }
   ],
   "source": [
    "import ollama\n",
    "city = 'Pune'\n",
    "weather_data = fetch_weather(city)\n",
    "today = datetime.datetime.fromtimestamp(weather_data['dt'])\n",
    "prompt = weather_prompt_template.format(city=city, date=today.date(),weather_data = json.dumps(weather_data))\n",
    "response = ollama.generate(model=\"llama3.2:1b\",\n",
    "                          prompt=prompt)\n",
    "\n",
    "print(response['response'])"
   ]
  },
  {
   "cell_type": "code",
   "execution_count": 105,
   "id": "7b2d8376-4b54-4782-ae2f-e211495b1b94",
   "metadata": {},
   "outputs": [],
   "source": [
    "import datetime"
   ]
  },
  {
   "cell_type": "code",
   "execution_count": 115,
   "id": "e69998ce-8154-4ff8-8a8b-592fed247ba2",
   "metadata": {},
   "outputs": [
    {
     "name": "stdout",
     "output_type": "stream",
     "text": [
      "2025-08-18\n",
      "2025-08-18 23:23:32\n"
     ]
    }
   ],
   "source": [
    "# Convert timestamp to datetime\n",
    "timestamp = weather_data['dt']\n",
    "local_time = datetime.datetime.fromtimestamp(timestamp)  # uses your system's timezone\n",
    "\n",
    "print(local_time.date())   # e.g. 2025-08-18\n",
    "print(local_time.strftime(\"%Y-%m-%d %H:%M:%S\"))"
   ]
  },
  {
   "cell_type": "code",
   "execution_count": null,
   "id": "0bc1a27d-685e-4cf7-9d80-bc2a0e1a0a3e",
   "metadata": {},
   "outputs": [],
   "source": []
  }
 ],
 "metadata": {
  "kernelspec": {
   "display_name": "Python [conda env:base] *",
   "language": "python",
   "name": "conda-base-py"
  },
  "language_info": {
   "codemirror_mode": {
    "name": "ipython",
    "version": 3
   },
   "file_extension": ".py",
   "mimetype": "text/x-python",
   "name": "python",
   "nbconvert_exporter": "python",
   "pygments_lexer": "ipython3",
   "version": "3.12.7"
  }
 },
 "nbformat": 4,
 "nbformat_minor": 5
}
